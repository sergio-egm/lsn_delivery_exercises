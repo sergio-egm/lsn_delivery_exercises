{
 "cells": [
  {
   "cell_type": "markdown",
   "metadata": {},
   "source": [
    "# <span style=\"color:green\"> Numerical Simulation Laboratory (NSL) </span>\n",
    "## <span style=\"color:blue\">  Numerical exercises 2</span>\n"
   ]
  },
  {
   "cell_type": "markdown",
   "metadata": {},
   "source": [
    "### Exercise 02.1\n",
    "- Compute the following 1D integral via Monte Carlo \n",
    "$$I = \\int_0^1 \\frac{\\pi}{2}\\cos(\\pi x/2) dx = 1$$"
   ]
  },
  {
   "cell_type": "markdown",
   "metadata": {},
   "source": [
    "1. sampling a uniform distribution in $[0,1]$\n",
    "2. using importance sampling (i.e. sampling a non-uniform probability in $[0,1]$)\n",
    "\n",
    "<span style=\"color:red\">Show a picture of both your estimations of $I$</span> and their uncertainties with a large number of *throws* $M$ (e.g. $M\\ge 10^4$) as a function of the number of blocks, $N$</font>."
   ]
  },
  {
   "cell_type": "markdown",
   "metadata": {},
   "source": [
    "### Exercise 02.2\n",
    "- <span style=\"color:red\">3D Random Walks (RW) on a cubic lattice and in the continuum:</span> Repeat many times (e.g. say $10^4$) the simulation of a random walk in 3D always starting at the origin"
   ]
  },
  {
   "cell_type": "markdown",
   "metadata": {},
   "source": [
    "1. on a cubic lattice with lattice constant $a=1$; at each discrete time the walker makes a forward or backward step of length equal to $a$ in one of the 3 principal directions of the lattice: $x$, $y$ or $z$\n",
    "2. in the continuum; at each discrete time the walker makes a step of length equal to $a(=1)$ along a **random direction** obtained by sampling **uniformly** the solid angle: $\\theta \\in [0,\\pi]$ and $\\phi \\in [0,2\\pi]$\n",
    "\n",
    "<span style=\"color:red\">Show a picture of $\\sqrt{\\langle |\\vec{r}_N|^2 \\rangle_{RW}}$ for both RWs</span>, with their statistical uncertainties, as function of the step $i\\in [0,10^2]$.\n",
    "\n",
    "Suggestion: divide your $M$ throws into a reasonable number of blocks, compute $\\sqrt{\\langle |\\vec{r}_N|^2 \\rangle_{RW}}$ as function of the step $i\\in [0,10^2]$ in each block and use these values (for fixed $i$) to obtain the average value and its statistical uncertainty.\n",
    "\n",
    "Note that you could try to fit both results with a function like $f(N)=k\\sqrt{N}$. Do your results indicate a diffusive behavior?"
   ]
  }
 ],
 "metadata": {
  "kernelspec": {
   "display_name": "Python 3 (ipykernel)",
   "language": "python",
   "name": "python3"
  }
 },
 "nbformat": 4,
 "nbformat_minor": 2
}
