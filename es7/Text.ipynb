{
 "cells": [
  {
   "cell_type": "markdown",
   "metadata": {},
   "source": [
    "# <span style=\"color:green\"> Numerical Simulation Laboratory (NSL) </span>\n",
    "## <span style=\"color:blue\">  Numerical exercises 7</span>"
   ]
  },
  {
   "cell_type": "markdown",
   "metadata": {},
   "source": [
    "### Exercise 07.1\n",
    "In the MD/MC code we have provided, include tail corrections for potential energy, $U$, and pressure $P$."
   ]
  },
  {
   "cell_type": "markdown",
   "metadata": {},
   "source": [
    "### Exercise 07.2\n",
    "\n",
    "Use the MD/MC code to <span style=\"color:red\">print out instantaneous values of potential energy per particle, $U/N$, along **equilibrated** Monte Carlo simulations</span> (of $M=5\\times 10^5$ MC steps and where the Metropolis acceptance ratio has been fixed approximately to 50%) in the following thermodynamic conditions:\n",
    "- solid phase: $\\rho^\\star = 1.1$, $T^\\star = 0.8$ (cut-off radius: $r_c = 2.2$)\n",
    "- liquid phase: $\\rho^\\star = 0.8$, $T^\\star = 1.1$ (cut-off radius: $r_c = 2.5$)\n",
    "- gas phase: $\\rho^\\star = 0.05$, $T^\\star = 1.2$ (cut-off radius: $r_c = 5.0$)"
   ]
  },
  {
   "cell_type": "markdown",
   "metadata": {},
   "source": [
    "1. <span style=\"color:red\">Once this data has been produced, compute and make pictures with a python script of the autocorrelation functions of $U/N$ to approximately estimate how large the blocks in your simulations should be.\n",
    "2. Use the same data to study, with a python script, the estimation of the statistical uncertainties of the expectation value of $U/N$ for different size of the blocks in the data blocking technique, from $L=M/N=10$ to $L=5\\times 10^3$, being $N$ the number of blocks. <span style=\"color:red\">Make pictures of these statistical uncertainties as a function of $L$.</span> What you observe in the statistical uncertainties after that the block size is large enough (from the point of view of the data blocking technique)?"
   ]
  },
  {
   "cell_type": "markdown",
   "metadata": {},
   "source": [
    "### Exercise 07.3\n",
    "\n",
    "<span style=\"color:red\">Include the calculation of the radial distribution function, $g(r)$, as a function of the radial distance $r$ among particles, with $r \\in \\left[ 0; L/2\\right]$ inside the MD/MC code</span>: average value of $g(r)$ in each block, final average value of $g(r)$ with statistical uncertainties in a separate file."
   ]
  },
  {
   "cell_type": "markdown",
   "metadata": {},
   "source": [
    "### Exercise 07.4\n",
    "\n",
    "By means of your upgraded MD/MC code, equilibrate and <span style=\"color:red\">perform MC NVT simulations via a Lennard-Jones model</span> of Argon ($\\sigma = 0.34$ nm, $\\epsilon/k_B = 120$ K, $m=39.948$ amu) in the following conditions:\n",
    "1. solid phase: $\\rho^\\star = 1.1$, $T^\\star = 0.8$ (cut-off radius: $r_c = 2.2$)\n",
    "2. liquid phase: $\\rho^\\star = 0.8$, $T^\\star = 1.1$ (cut-off radius: $r_c = 2.5$)\n",
    "3. gas phase: $\\rho^\\star = 0.05$, $T^\\star = 1.2$ (cut-off radius: $r_c = 5.0$)\n",
    "\n",
    "show in pictures the obtained average values and uncertainties for the potential energy per particle, $U/N$, the pressure $P$ and the radial distribution function $g(r)$ in LJ units ... <span style=\"color:red\"> and compare your MC results for the radial distribution function, $g(r)$, with those obtained with Molecular Dynamics NVE simulations in similar thermodynamic conditions.</span>"
   ]
  }
 ],
 "metadata": {
  "kernelspec": {
   "display_name": "Python 3 (ipykernel)",
   "language": "python",
   "name": "python3"
  },
  "language_info": {
   "codemirror_mode": {
    "name": "ipython",
    "version": 3
   },
   "file_extension": ".py",
   "mimetype": "text/x-python",
   "name": "python",
   "nbconvert_exporter": "python",
   "pygments_lexer": "ipython3",
   "version": "3.9.13"
  }
 },
 "nbformat": 4,
 "nbformat_minor": 2
}
