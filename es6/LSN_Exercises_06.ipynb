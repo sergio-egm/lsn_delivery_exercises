{
 "cells": [
  {
   "cell_type": "code",
   "execution_count": 1,
   "metadata": {},
   "outputs": [],
   "source": [
    "import numpy as np\n",
    "import matplotlib.pyplot as plt "
   ]
  },
  {
   "cell_type": "code",
   "execution_count": 4,
   "metadata": {},
   "outputs": [
    {
     "ename": "NameError",
     "evalue": "name 'data' is not defined",
     "output_type": "error",
     "traceback": [
      "\u001b[0;31m---------------------------------------------------------------------------\u001b[0m",
      "\u001b[0;31mNameError\u001b[0m                                 Traceback (most recent call last)",
      "\u001b[1;32m/home/sergio/Desktop/LSN/es6/LSN_Exercises_06.ipynb Cell 2\u001b[0m in \u001b[0;36m6\n\u001b[1;32m      <a href='vscode-notebook-cell:/home/sergio/Desktop/LSN/es6/LSN_Exercises_06.ipynb#W1sZmlsZQ%3D%3D?line=0'>1</a>\u001b[0m \u001b[39m#data=np.loadtxt(\"ISING_1D/output.ene.0\")\u001b[39;00m\n\u001b[1;32m      <a href='vscode-notebook-cell:/home/sergio/Desktop/LSN/es6/LSN_Exercises_06.ipynb#W1sZmlsZQ%3D%3D?line=1'>2</a>\u001b[0m \u001b[39m#plt.errorbar(data[:,0],data[:,2],yerr=data[:,3],label=\"pippo\")\u001b[39;00m\n\u001b[1;32m      <a href='vscode-notebook-cell:/home/sergio/Desktop/LSN/es6/LSN_Exercises_06.ipynb#W1sZmlsZQ%3D%3D?line=2'>3</a>\u001b[0m \u001b[39m#plt.grid()\u001b[39;00m\n\u001b[1;32m      <a href='vscode-notebook-cell:/home/sergio/Desktop/LSN/es6/LSN_Exercises_06.ipynb#W1sZmlsZQ%3D%3D?line=3'>4</a>\u001b[0m \u001b[39m#,yerr=data[:,3]\u001b[39;00m\n\u001b[1;32m      <a href='vscode-notebook-cell:/home/sergio/Desktop/LSN/es6/LSN_Exercises_06.ipynb#W1sZmlsZQ%3D%3D?line=4'>5</a>\u001b[0m \u001b[39m#print(data)\u001b[39;00m\n\u001b[0;32m----> <a href='vscode-notebook-cell:/home/sergio/Desktop/LSN/es6/LSN_Exercises_06.ipynb#W1sZmlsZQ%3D%3D?line=5'>6</a>\u001b[0m \u001b[39mfor\u001b[39;00m i \u001b[39min\u001b[39;00m \u001b[39mrange\u001b[39m(\u001b[39mlen\u001b[39m(data)):\n\u001b[1;32m      <a href='vscode-notebook-cell:/home/sergio/Desktop/LSN/es6/LSN_Exercises_06.ipynb#W1sZmlsZQ%3D%3D?line=6'>7</a>\u001b[0m     \u001b[39mprint\u001b[39m(\u001b[39mabs\u001b[39m(data[i,\u001b[39m3\u001b[39m]\u001b[39m/\u001b[39mdata[i,\u001b[39m2\u001b[39m])\u001b[39m<\u001b[39m\u001b[39m0.001\u001b[39m)\n\u001b[1;32m      <a href='vscode-notebook-cell:/home/sergio/Desktop/LSN/es6/LSN_Exercises_06.ipynb#W1sZmlsZQ%3D%3D?line=7'>8</a>\u001b[0m i\u001b[39m=\u001b[39m\u001b[39m1\u001b[39m\n",
      "\u001b[0;31mNameError\u001b[0m: name 'data' is not defined"
     ]
    }
   ],
   "source": [
    "data=np.loadtxt(\"ISING_1D/output.ene.0\")\n",
    "plt.errorbar(data[:,0],data[:,2],yerr=data[:,3],label=\"pippo\")\n",
    "plt.grid()\n",
    "#,yerr=data[:,3]\n",
    "#print(data)\n",
    "for i in range(len(data)):\n",
    "    print(abs(data[i,3]/data[i,2])<0.001)\n",
    "i=1\n",
    "while abs(data[i,3]/data[i,2])>=0.001:\n",
    "    i+=1\n",
    "\n",
    "plt.plot([i,i],[-0.464,-0.460])\n",
    "plt.show()"
   ]
  },
  {
   "cell_type": "code",
   "execution_count": null,
   "metadata": {},
   "outputs": [],
   "source": []
  }
 ],
 "metadata": {
  "kernelspec": {
   "display_name": "Python 3 (ipykernel)",
   "language": "python",
   "name": "python3"
  },
  "orig_nbformat": 4
 },
 "nbformat": 4,
 "nbformat_minor": 2
}
