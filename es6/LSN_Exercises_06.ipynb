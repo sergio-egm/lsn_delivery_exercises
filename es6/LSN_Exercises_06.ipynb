{
 "cells": [
  {
   "attachments": {},
   "cell_type": "markdown",
   "metadata": {},
   "source": [
    "# Esercitazione 6"
   ]
  },
  {
   "cell_type": "code",
   "execution_count": 1,
   "metadata": {},
   "outputs": [],
   "source": [
    "import numpy as np\n",
    "import matplotlib.pyplot as plt "
   ]
  },
  {
   "attachments": {},
   "cell_type": "markdown",
   "metadata": {},
   "source": [
    "## 1 Modello di Ising"
   ]
  },
  {
   "attachments": {},
   "cell_type": "markdown",
   "metadata": {},
   "source": [
    "Il modello di Ising è un modello della meccanica statistica utilizzato per studiare diversi sistemi, ad esempio la magnetizzazione di un ferro magnete.  Consiste in un sistema di spin $N$-dimensionale descritto da  un'*Hamiltoniana*, con donizioni periodiche, quindi $s_{N+1}=s_1$.  Noi studieremo il caso monodimensionale, quindi l'*Hamiltoniana* diventa:\n",
    "$$\n",
    "H=-J\\sum_{i=1}^N s_i\\,s_{i+1}-\\frac{h}{2}\\sum_{i=1}^N(s_i+s_{i+1})\n",
    "$$"
   ]
  },
  {
   "attachments": {},
   "cell_type": "markdown",
   "metadata": {},
   "source": [
    "Essendo un sistema ferromagnetico i valori di $s_i\\in\\{-1,1\\}$ e $J>0$. \n",
    "\n",
    "Per semplificare poniamo:\n",
    "- $k_B=1$ .\n",
    "- $\\mu_B=1$ ."
   ]
  },
  {
   "attachments": {},
   "cell_type": "markdown",
   "metadata": {},
   "source": [
    "Nel nostro caso possiamo trovare analiticamente la soluzione per la funzione dei partizione $Z$:\n",
    "$$\n",
    "Z=\\sum_{\\{s_i\\}}(-\\beta\\,H)=\\lambda_1^N+\\lambda_2^N\n",
    "$$\n",
    "con $\\lambda_{1,2} = e^{\\beta J} \\cosh (\\beta h) \\pm \\left[ e^{2\\beta J} \\cosh^2 (\\beta h) - 2\\sinh (2\\beta J) \\right]^{1/2}$ e $\\beta=\\frac{1}{k_B\\,T}$."
   ]
  },
  {
   "attachments": {},
   "cell_type": "markdown",
   "metadata": {},
   "source": [
    "Da $Z$ possiamo ricavare l'*energia libera di Gibbs*:\n",
    "$$\n",
    "A=-k_B\\,T\\ln{Z}\n",
    "$$"
   ]
  },
  {
   "attachments": {},
   "cell_type": "markdown",
   "metadata": {},
   "source": [
    "Da queste possiamo ricavare tutte le altre grandezze termodinamiche."
   ]
  },
  {
   "attachments": {},
   "cell_type": "markdown",
   "metadata": {},
   "source": [
    "### 1.1 Algoritmi di Campionamento"
   ]
  },
  {
   "attachments": {},
   "cell_type": "markdown",
   "metadata": {},
   "source": [
    "Per trovare la funzione di partizione serve trovare un algoritmo per campionare lo spazio degli stati.  Non ne useremo due:\n",
    "1. Metropolis.\n",
    "2. Gibbs."
   ]
  },
  {
   "attachments": {},
   "cell_type": "markdown",
   "metadata": {},
   "source": [
    "#### 1.1.1 Algoritmo di Metropolis"
   ]
  },
  {
   "attachments": {},
   "cell_type": "markdown",
   "metadata": {},
   "source": [
    "L'__algoritmo di Metropolis__ consiste in prendere un campione e cambiare il suo stato ed accettare la \"*mossa*\" in base alla probabilità $q(x|y)=\\min[1,A(x|y)]$, dove:\n",
    "$$\n",
    "A(x|y)=\\frac{T(x|y)\\,p(x)}{T(y|x)\\,p(y)}\n",
    "$$\n",
    "con $T(x|y)$ la probabilità che il sistema passi da $x$ a $y$ e $p(x)$ la probabilità di trovarsi in $x$.\n",
    "\n",
    "La comodità di questo algoritmo è che non serve che le probabilità siano normalizzate."
   ]
  },
  {
   "attachments": {},
   "cell_type": "markdown",
   "metadata": {},
   "source": [
    "Nel __modello di Ising__ selezioniamo casualmente uno spin e lo giriamo ($\\pm 1 \\to \\mp 1$) con probabilità $q(\\Delta E)=\\min{\\left[1,e^{-\\beta\\,\\Delta E}\\right]}$."
   ]
  },
  {
   "attachments": {},
   "cell_type": "markdown",
   "metadata": {},
   "source": [
    "#### 1.1.2 Algoritmo di Gibbs"
   ]
  },
  {
   "attachments": {},
   "cell_type": "markdown",
   "metadata": {},
   "source": [
    "L'__algoritmo di Gibbs__ preso un sistema con più variabili cambiamo lo stato di una di queste variabili mantenedole tutte costanti tranne una la quale, il nuovo stato, viene estratto dalla probabilità condizionale dello stato attuale rispetto agli altri."
   ]
  },
  {
   "attachments": {},
   "cell_type": "markdown",
   "metadata": {},
   "source": [
    "In questo caso le mosse vengono sempre accettate, ma neanche con __Gibbs__ c'è bisogno di sapere la funzione di partizione."
   ]
  },
  {
   "attachments": {},
   "cell_type": "markdown",
   "metadata": {},
   "source": [
    "Nel __modello di Ising__ estrarremo le mosse dalla probabilità:\n",
    "$$\n",
    "p(s_k'=\\pm1|\\{s_j:j\\neq k\\})=\\frac{1}{1+exp(-\\beta\\,\\Delta E_{s_k=\\pm1\\to s_k=\\mp1})}\n",
    "$$"
   ]
  },
  {
   "attachments": {},
   "cell_type": "markdown",
   "metadata": {},
   "source": [
    "### 1.2 Simulazione"
   ]
  },
  {
   "attachments": {},
   "cell_type": "markdown",
   "metadata": {},
   "source": [
    "Utilizzando questi algoritmi possiamo campionare lo spazio degli stati per determinare le grandezze termodinamiche:\n",
    "1. Energia interna: $U(N,T) = \\langle H \\rangle_{h=0}$\n",
    "2. Capacità termica: $C(N,T) = k_B \\beta^2 (\\langle H^2 \\rangle_{h=0}-\\langle H \\rangle_{h=0}^2)$ \n",
    "3. Sucettibilità magnetica: $\\chi(N,T) = \\beta \\langle (\\sum_{i=1,N}s_i)^2 \\rangle_{h=0}$\n",
    "4. Magnetizzazione: $M(N,T,h=0.02)= \\langle \\sum_{i=1,N}s_i \\rangle_{h=0.02}$"
   ]
  },
  {
   "attachments": {},
   "cell_type": "markdown",
   "metadata": {},
   "source": [
    "Confronteremo questi vaolri con quelli ottenuti analiticamente nel range di $T\\in[0.5,2]$."
   ]
  },
  {
   "attachments": {},
   "cell_type": "markdown",
   "metadata": {},
   "source": [
    "<font color=red>N.B.</font> Anche in questa esercitazione è necessaria la termalizzazione del sistema, per velocizzare questo processo inizieremo con una configurazione casuale alla temperatura più alta per poi abbassare la temperatura ripartendo dall'ultima configurazione della temperatura precedente."
   ]
  },
  {
   "cell_type": "code",
   "execution_count": 4,
   "metadata": {},
   "outputs": [
    {
     "ename": "NameError",
     "evalue": "name 'data' is not defined",
     "output_type": "error",
     "traceback": [
      "\u001b[0;31m---------------------------------------------------------------------------\u001b[0m",
      "\u001b[0;31mNameError\u001b[0m                                 Traceback (most recent call last)",
      "\u001b[1;32m/home/sergio/Desktop/LSN/es6/LSN_Exercises_06.ipynb Cell 2\u001b[0m in \u001b[0;36m6\n\u001b[1;32m      <a href='vscode-notebook-cell:/home/sergio/Desktop/LSN/es6/LSN_Exercises_06.ipynb#W1sZmlsZQ%3D%3D?line=0'>1</a>\u001b[0m \u001b[39m#data=np.loadtxt(\"ISING_1D/output.ene.0\")\u001b[39;00m\n\u001b[1;32m      <a href='vscode-notebook-cell:/home/sergio/Desktop/LSN/es6/LSN_Exercises_06.ipynb#W1sZmlsZQ%3D%3D?line=1'>2</a>\u001b[0m \u001b[39m#plt.errorbar(data[:,0],data[:,2],yerr=data[:,3],label=\"pippo\")\u001b[39;00m\n\u001b[1;32m      <a href='vscode-notebook-cell:/home/sergio/Desktop/LSN/es6/LSN_Exercises_06.ipynb#W1sZmlsZQ%3D%3D?line=2'>3</a>\u001b[0m \u001b[39m#plt.grid()\u001b[39;00m\n\u001b[1;32m      <a href='vscode-notebook-cell:/home/sergio/Desktop/LSN/es6/LSN_Exercises_06.ipynb#W1sZmlsZQ%3D%3D?line=3'>4</a>\u001b[0m \u001b[39m#,yerr=data[:,3]\u001b[39;00m\n\u001b[1;32m      <a href='vscode-notebook-cell:/home/sergio/Desktop/LSN/es6/LSN_Exercises_06.ipynb#W1sZmlsZQ%3D%3D?line=4'>5</a>\u001b[0m \u001b[39m#print(data)\u001b[39;00m\n\u001b[0;32m----> <a href='vscode-notebook-cell:/home/sergio/Desktop/LSN/es6/LSN_Exercises_06.ipynb#W1sZmlsZQ%3D%3D?line=5'>6</a>\u001b[0m \u001b[39mfor\u001b[39;00m i \u001b[39min\u001b[39;00m \u001b[39mrange\u001b[39m(\u001b[39mlen\u001b[39m(data)):\n\u001b[1;32m      <a href='vscode-notebook-cell:/home/sergio/Desktop/LSN/es6/LSN_Exercises_06.ipynb#W1sZmlsZQ%3D%3D?line=6'>7</a>\u001b[0m     \u001b[39mprint\u001b[39m(\u001b[39mabs\u001b[39m(data[i,\u001b[39m3\u001b[39m]\u001b[39m/\u001b[39mdata[i,\u001b[39m2\u001b[39m])\u001b[39m<\u001b[39m\u001b[39m0.001\u001b[39m)\n\u001b[1;32m      <a href='vscode-notebook-cell:/home/sergio/Desktop/LSN/es6/LSN_Exercises_06.ipynb#W1sZmlsZQ%3D%3D?line=7'>8</a>\u001b[0m i\u001b[39m=\u001b[39m\u001b[39m1\u001b[39m\n",
      "\u001b[0;31mNameError\u001b[0m: name 'data' is not defined"
     ]
    }
   ],
   "source": [
    "data=np.loadtxt(\"ISING_1D/output.ene.0\")\n",
    "plt.errorbar(data[:,0],data[:,2],yerr=data[:,3],label=\"pippo\")\n",
    "plt.grid()\n",
    "#,yerr=data[:,3]\n",
    "#print(data)\n",
    "for i in range(len(data)):\n",
    "    print(abs(data[i,3]/data[i,2])<0.001)\n",
    "i=1\n",
    "while abs(data[i,3]/data[i,2])>=0.001:\n",
    "    i+=1\n",
    "\n",
    "plt.plot([i,i],[-0.464,-0.460])\n",
    "plt.show()"
   ]
  }
 ],
 "metadata": {
  "kernelspec": {
   "display_name": "Python 3 (ipykernel)",
   "language": "python",
   "name": "python3"
  },
  "orig_nbformat": 4
 },
 "nbformat": 4,
 "nbformat_minor": 2
}
