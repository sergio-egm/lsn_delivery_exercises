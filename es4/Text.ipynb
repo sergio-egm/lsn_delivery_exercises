{
 "cells": [
  {
   "cell_type": "markdown",
   "metadata": {},
   "source": [
    "# <span style=\"color:green\"> Numerical Simulation Laboratory (NSL) </span>\n",
    "## <span style=\"color:blue\">  Numerical exercises 4</span>"
   ]
  },
  {
   "cell_type": "markdown",
   "metadata": {},
   "source": [
    "### Exercise 04.1\n",
    "\n",
    "The Molecular Dynamics / Monte Carlo (MD_MC) code we have provided compute the total (internal) energy per particle, $E/N$, the potential energy per particle, $U/N$, the kinetic energy per particle, $K/N$, and the temperature, $T$.\n",
    "\n",
    "<span style=\"color:red\">Include the calculation of the pressure, $P$, inside your Molecular Dynamics code: block averages, progressive average values and progresssive uncertainties.</span>\n",
    "\n",
    "Remember that, via the **virial theorem**, the pressure in a Lennard-Jones system can be estimated by means of:\n",
    "\n",
    "$$ P = \\rho k_B T + \\frac{1}{3V} \\left\\langle \\sum_{i=1}^{N-1} \\sum_{j\\,(>i)}^N 48\\epsilon \\left[ \\left(\\frac{\\sigma}{|\\vec{r}_i -\\vec{r}_j|}\\right)^{12} - \n",
    "\\frac{1}{2} \\left(\\frac{\\sigma}{|\\vec{r}_i -\\vec{r}_j|}\\right)^6 \\right] \\right\\rangle $$"
   ]
  },
  {
   "cell_type": "markdown",
   "metadata": {},
   "source": [
    "### Exercise 04.2\n",
    "\n",
    "By means of your upgraded code, <span style=\"color:red\">perform MD simulations via a Lennard-Jones model</span> of Argon ($\\sigma = 0.34$ nm, $\\epsilon/k_B = 120$ K, $m=39.948$ amu) in the following conditions:\n",
    "1. solid phase: $\\rho^\\star = 1.1$, $T^\\star = 0.8$ (cut-off radius: $r_c = 2.2$)\n",
    "2. liquid phase: $\\rho^\\star = 0.8$, $T^\\star = 1.1$ (cut-off radius: $r_c = 2.5$)\n",
    "3. gas phase: $\\rho^\\star = 0.05$, $T^\\star = 1.2$ (cut-off radius: $r_c = 5.0$)\n",
    "\n",
    "and show in pictures the obtained progressive average values and uncertainties as a functions of the increasing number of blocks for the total (internal) energy per particle, $E/N$, the potential energy per particle, $U/N$, the kinetic energy per particle, $K/N$, the temperature, $T$, and the pressure, $P$, in reduced units!"
   ]
  },
  {
   "cell_type": "markdown",
   "metadata": {},
   "source": [
    "### <span style=\"color:green\"> Equilibration is needed!</span>\n",
    "\n",
    "By monitoring the temperature, $T$, during the first time steps of the simulation, you will observe that at the beginning, starting from a perfect crystalline configuration, $T$ will not conserve its value. Can you understand and explain this behaviour?\n",
    "\n",
    "Explore and find the starting value of $T$ needed to stabilize, after a certain number of time steps (equilibration time), the average value of $T$ on the desired $T^\\star$. <span style=\"color:red\">Perform your solid/liquid phase MD simulations by re-starting them after such equilibration time.</span>"
   ]
  }
 ],
 "metadata": {
  "kernelspec": {
   "display_name": "Python 3 (ipykernel)",
   "language": "python",
   "name": "python3"
  },
  "language_info": {
   "codemirror_mode": {
    "name": "ipython",
    "version": 3
   },
   "file_extension": ".py",
   "mimetype": "text/x-python",
   "name": "python",
   "nbconvert_exporter": "python",
   "pygments_lexer": "ipython3",
   "version": "3.9.2"
  }
 },
 "nbformat": 4,
 "nbformat_minor": 2
}
